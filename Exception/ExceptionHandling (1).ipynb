{
 "cells": [
  {
   "cell_type": "code",
   "execution_count": 1,
   "id": "d47fbc3f-a5f6-45a4-a379-759c3245125c",
   "metadata": {},
   "outputs": [
    {
     "name": "stdout",
     "output_type": "stream",
     "text": [
      "This is my file\n"
     ]
    }
   ],
   "source": [
    "# ye wala eve hi likha hai. bas yeh dikhane ko ki jb tak first line Excute hogi without error to hi niche wala code Excute hogi. \n",
    "f = open(\"test.txt\", 'r')\n",
    "print(\"This is my file\")"
   ]
  },
  {
   "cell_type": "markdown",
   "id": "b6c6bf01-2375-4ef2-8d58-24018d26e88d",
   "metadata": {},
   "source": [
    "# try ('r' Mode) \n",
    "# is wale ka concept yeh hai ki dono hi codes Excute honge  WITH THE HELP OF EXCEPT EXCEPTION KEYWORD"
   ]
  },
  {
   "cell_type": "code",
   "execution_count": 2,
   "id": "d086e5ff-9890-4b9e-91b8-de9c9c59ac2e",
   "metadata": {},
   "outputs": [
    {
     "name": "stdout",
     "output_type": "stream",
     "text": [
      "This is my except block [Errno 2] No such file or directory: 'Test.txt'\n"
     ]
    },
    {
     "data": {
      "text/plain": [
       "12"
      ]
     },
     "execution_count": 2,
     "metadata": {},
     "output_type": "execute_result"
    }
   ],
   "source": [
    "\n",
    "try:\n",
    "    f = open (\"Test.txt\", 'r')\n",
    "except Exception as e:\n",
    "    print(\"This is my except block\",e)\n",
    "    \n",
    "a = 3+4+5\n",
    "a"
   ]
  },
  {
   "cell_type": "markdown",
   "id": "aad5235e-d8ef-44df-a1b8-b75e1dc3d856",
   "metadata": {},
   "source": [
    "# Try ('w' mode) - isse file create hogi or sath hi sath isme except expection ka use huaa hai ."
   ]
  },
  {
   "cell_type": "code",
   "execution_count": 3,
   "id": "e6dd6689-45f2-4ec2-83a5-dc04a7ed6bea",
   "metadata": {},
   "outputs": [],
   "source": [
    "try:\n",
    "    f = open(\"test.txt\",'w')\n",
    "    f.write(\"Write it into my file\")\n",
    "    f.close()\n",
    "except Exception as e:\n",
    "        print(\"this is my except block\",e)"
   ]
  },
  {
   "cell_type": "markdown",
   "id": "22932898-2b79-4c11-9d1c-94c2b2b77233",
   "metadata": {},
   "source": [
    "# Try else - isse ye pta chalega ki dusra wala code tabhi Excte hoga jb try wala code sucessfully excute ho payega"
   ]
  },
  {
   "cell_type": "code",
   "execution_count": 4,
   "id": "9d449079-fa3e-42e1-819d-60f336cc6b7d",
   "metadata": {},
   "outputs": [
    {
     "name": "stdout",
     "output_type": "stream",
     "text": [
      "This will be excuted once your try will excuted without error\n"
     ]
    }
   ],
   "source": [
    "try:\n",
    "    f = open(\"test.txt\",'w')\n",
    "    f.write(\"Write it into my file\")\n",
    "    #f.close()\n",
    "except Exception as e:\n",
    "        print(\"this is my except block\",e)\n",
    "else :\n",
    "    f.close()\n",
    "    print(\"This will be excuted once your try will excuted without error\")"
   ]
  },
  {
   "cell_type": "markdown",
   "id": "a9d372ef-edbc-447c-ad90-84bb804e4364",
   "metadata": {},
   "source": [
    "#  try else - this  will be excute once your try will excuted without error"
   ]
  },
  {
   "cell_type": "code",
   "execution_count": 5,
   "id": "d8d6e91e-339e-4334-84e7-c1709016eeac",
   "metadata": {},
   "outputs": [
    {
     "name": "stdout",
     "output_type": "stream",
     "text": [
      "this is my except block [Errno 2] No such file or directory: 'tes1t.txt'\n"
     ]
    }
   ],
   "source": [
    "try:\n",
    "    f = open(\"tes1t.txt\",'r')\n",
    "    f.write(\"Write it into my file\")\n",
    "except Exception as e:\n",
    "        print(\"this is my except block\",e)\n",
    "else :\n",
    "    f.close()\n",
    "    print(\"This will be excuted once your try will excuted without error\")\n",
    "    "
   ]
  },
  {
   "cell_type": "markdown",
   "id": "a3ed19ca-9f6e-446c-9b63-4b81d52bf5bb",
   "metadata": {},
   "source": [
    "# try (Finally) - this will be excuted either first will get error."
   ]
  },
  {
   "cell_type": "code",
   "execution_count": 6,
   "id": "21f60a1f-61ac-40e1-a572-f9c63f9bbbc1",
   "metadata": {},
   "outputs": [
    {
     "name": "stdout",
     "output_type": "stream",
     "text": [
      "finally will excute self in any sitiation\n"
     ]
    },
    {
     "ename": "FileNotFoundError",
     "evalue": "[Errno 2] No such file or directory: 'Test3.txt'",
     "output_type": "error",
     "traceback": [
      "\u001b[0;31m---------------------------------------------------------------------------\u001b[0m",
      "\u001b[0;31mFileNotFoundError\u001b[0m                         Traceback (most recent call last)",
      "Cell \u001b[0;32mIn[6], line 2\u001b[0m\n\u001b[1;32m      1\u001b[0m \u001b[38;5;28;01mtry\u001b[39;00m:\n\u001b[0;32m----> 2\u001b[0m     f \u001b[38;5;241m=\u001b[39m \u001b[38;5;28;43mopen\u001b[39;49m\u001b[43m(\u001b[49m\u001b[38;5;124;43m\"\u001b[39;49m\u001b[38;5;124;43mTest3.txt\u001b[39;49m\u001b[38;5;124;43m\"\u001b[39;49m\u001b[43m,\u001b[49m\u001b[38;5;124;43m'\u001b[39;49m\u001b[38;5;124;43mr\u001b[39;49m\u001b[38;5;124;43m'\u001b[39;49m\u001b[43m)\u001b[49m\n\u001b[1;32m      3\u001b[0m     f\u001b[38;5;241m.\u001b[39mwrite(\u001b[38;5;124m\"\u001b[39m\u001b[38;5;124mWrite something\u001b[39m\u001b[38;5;124m\"\u001b[39m)\n\u001b[1;32m      4\u001b[0m \u001b[38;5;28;01mfinally\u001b[39;00m :\n",
      "File \u001b[0;32m/opt/conda/lib/python3.10/site-packages/IPython/core/interactiveshell.py:282\u001b[0m, in \u001b[0;36m_modified_open\u001b[0;34m(file, *args, **kwargs)\u001b[0m\n\u001b[1;32m    275\u001b[0m \u001b[38;5;28;01mif\u001b[39;00m file \u001b[38;5;129;01min\u001b[39;00m {\u001b[38;5;241m0\u001b[39m, \u001b[38;5;241m1\u001b[39m, \u001b[38;5;241m2\u001b[39m}:\n\u001b[1;32m    276\u001b[0m     \u001b[38;5;28;01mraise\u001b[39;00m \u001b[38;5;167;01mValueError\u001b[39;00m(\n\u001b[1;32m    277\u001b[0m         \u001b[38;5;124mf\u001b[39m\u001b[38;5;124m\"\u001b[39m\u001b[38;5;124mIPython won\u001b[39m\u001b[38;5;124m'\u001b[39m\u001b[38;5;124mt let you open fd=\u001b[39m\u001b[38;5;132;01m{\u001b[39;00mfile\u001b[38;5;132;01m}\u001b[39;00m\u001b[38;5;124m by default \u001b[39m\u001b[38;5;124m\"\u001b[39m\n\u001b[1;32m    278\u001b[0m         \u001b[38;5;124m\"\u001b[39m\u001b[38;5;124mas it is likely to crash IPython. If you know what you are doing, \u001b[39m\u001b[38;5;124m\"\u001b[39m\n\u001b[1;32m    279\u001b[0m         \u001b[38;5;124m\"\u001b[39m\u001b[38;5;124myou can use builtins\u001b[39m\u001b[38;5;124m'\u001b[39m\u001b[38;5;124m open.\u001b[39m\u001b[38;5;124m\"\u001b[39m\n\u001b[1;32m    280\u001b[0m     )\n\u001b[0;32m--> 282\u001b[0m \u001b[38;5;28;01mreturn\u001b[39;00m \u001b[43mio_open\u001b[49m\u001b[43m(\u001b[49m\u001b[43mfile\u001b[49m\u001b[43m,\u001b[49m\u001b[43m \u001b[49m\u001b[38;5;241;43m*\u001b[39;49m\u001b[43margs\u001b[49m\u001b[43m,\u001b[49m\u001b[43m \u001b[49m\u001b[38;5;241;43m*\u001b[39;49m\u001b[38;5;241;43m*\u001b[39;49m\u001b[43mkwargs\u001b[49m\u001b[43m)\u001b[49m\n",
      "\u001b[0;31mFileNotFoundError\u001b[0m: [Errno 2] No such file or directory: 'Test3.txt'"
     ]
    }
   ],
   "source": [
    "try:\n",
    "    f = open(\"Test3.txt\",'r')\n",
    "    f.write(\"Write something\")\n",
    "finally :\n",
    "    print (\"finally will excute self in any sitiation\")"
   ]
  },
  {
   "cell_type": "code",
   "execution_count": null,
   "id": "65969774-7d7f-4229-9be2-1536f4b8dc73",
   "metadata": {},
   "outputs": [],
   "source": []
  }
 ],
 "metadata": {
  "kernelspec": {
   "display_name": "Python 3 (ipykernel)",
   "language": "python",
   "name": "python3"
  },
  "language_info": {
   "codemirror_mode": {
    "name": "ipython",
    "version": 3
   },
   "file_extension": ".py",
   "mimetype": "text/x-python",
   "name": "python",
   "nbconvert_exporter": "python",
   "pygments_lexer": "ipython3",
   "version": "3.10.8"
  }
 },
 "nbformat": 4,
 "nbformat_minor": 5
}
